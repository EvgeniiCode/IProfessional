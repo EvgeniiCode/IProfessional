{
  "nbformat": 4,
  "nbformat_minor": 0,
  "metadata": {
    "colab": {
      "name": "Untitled124.ipynb",
      "provenance": []
    },
    "kernelspec": {
      "name": "python3",
      "display_name": "Python 3"
    },
    "language_info": {
      "name": "python"
    }
  },
  "cells": [
    {
      "cell_type": "code",
      "execution_count": 1,
      "metadata": {
        "colab": {
          "base_uri": "https://localhost:8080/",
          "height": 130
        },
        "id": "GTyYU6JGZajp",
        "outputId": "24c9904d-3981-4df4-b79a-5fc7e0ecaae0"
      },
      "outputs": [
        {
          "output_type": "error",
          "ename": "SyntaxError",
          "evalue": "ignored",
          "traceback": [
            "\u001b[0;36m  File \u001b[0;32m\"<ipython-input-1-fcf2500612b1>\"\u001b[0;36m, line \u001b[0;32m8\u001b[0m\n\u001b[0;31m    path('publish', views.PublisherView.as_view(), name='main'),\u001b[0m\n\u001b[0m       ^\u001b[0m\n\u001b[0;31mSyntaxError\u001b[0m\u001b[0;31m:\u001b[0m invalid character in identifier\n"
          ]
        }
      ],
      "source": [
        "# urls.py\n",
        "from django.urls import path\n",
        "from . import views\n",
        "\n",
        "app_name = 'publisher'\n",
        "\n",
        "urlpatterns = [\n",
        "    path('publish', views.PublisherView.as_view(), name='main'),\n",
        "]"
      ]
    },
    {
      "cell_type": "code",
      "source": [
        "class PublisherView(View):\n",
        "\n",
        "    def post(self, request):\n",
        "        try:\n",
        "            key = request.META['HTTP_API_KEY']\n",
        "            if not key in settings.API_KEYS:\n",
        "                return JsonResponse(\n",
        "                    {'error': 'API-KEY not valid'}, status=400)\n",
        "        except:\n",
        "            return JsonResponse(\n",
        "                {'error': 'API-KEY missing in headers'}, status=400)\n",
        "        try:\n",
        "            body = json.loads(request.body.decode('utf-8'))\n",
        "        except:\n",
        "            return JsonResponse(\n",
        "                {'error': 'POST data is not JSON'}, status=400)\n",
        "        try:\n",
        "            group = body['network']\n",
        "        except:\n",
        "            return JsonResponse(\n",
        "                {'error': '*network* key missing'}, status=400)\n",
        "        if group not in settings.API_KEYS[key]:\n",
        "            return JsonResponse(\n",
        "                {'error': 'You cannot broadcast to this channel'}, status=403)\n",
        "        if not 'data' in body:\n",
        "            return JsonResponse(\n",
        "                {'error': '*data* key missing'}, status=400)\n",
        "        if not isinstance(body['data'], dict):\n",
        "            return JsonResponse(\n",
        "                {'error': 'Can only broadcast json data'}, status=400)\n",
        "        # all tests are OK\n",
        "        Group(group).send({'text': json.dumps(body['data'])})\n",
        "        return JsonResponse({'message': 'OK'}, status=200)\n"
      ],
      "metadata": {
        "id": "aGZi3kYvZbAR"
      },
      "execution_count": null,
      "outputs": []
    },
    {
      "cell_type": "code",
      "source": [
        "from channels.generic import websockets\n",
        "​\n",
        "class MyBroadcast(websockets.WebsocketConsumer):\n",
        "​\n",
        "    http_user = True\n",
        "    strict_ordering = False\n",
        "​\n",
        "    def connection_groups(self, **kwargs):\n",
        "        \"\"\"\n",
        "        Called to return the list of groups to automatically add/remove\n",
        "        this connection to/from.\n",
        "        \"\"\"\n",
        "        return [self.channel_name]\n",
        "​\n",
        "    def receive(self, text=None, bytes=None, **kwargs):\n",
        "        # Not talking!\n",
        "        pass\n",
        "​\n",
        "class SampleBroadcast(MyBroadcast):\n",
        "    channel_name = \"sample_net\""
      ],
      "metadata": {
        "colab": {
          "base_uri": "https://localhost:8080/",
          "height": 130
        },
        "id": "aRlsXzaIZdOU",
        "outputId": "c1a90e8a-2c72-46ed-fc2a-63c11d2965a5"
      },
      "execution_count": 2,
      "outputs": [
        {
          "output_type": "error",
          "ename": "SyntaxError",
          "evalue": "ignored",
          "traceback": [
            "\u001b[0;36m  File \u001b[0;32m\"<ipython-input-2-9f854214aef6>\"\u001b[0;36m, line \u001b[0;32m2\u001b[0m\n\u001b[0;31m    ​\u001b[0m\n\u001b[0m    ^\u001b[0m\n\u001b[0;31mSyntaxError\u001b[0m\u001b[0;31m:\u001b[0m invalid character in identifier\n"
          ]
        }
      ]
    },
    {
      "cell_type": "code",
      "source": [
        "class WSClient():\n",
        "​\n",
        "    def __init__(self, url):\n",
        "        self.url = url\n",
        "        # constant values, but can be passed as params\n",
        "        self.reply_timeout = 10\n",
        "        self.ping_timeout = 5\n",
        "        self.sleep_time = 5\n",
        "​\n",
        "    async def listen_forever(self):\n",
        "        while True:\n",
        "            logger.debug('Creating new connection...')\n",
        "            try:\n",
        "                async with websockets.connect(self.url) as ws:\n",
        "                    while True:\n",
        "                        try:\n",
        "                            reply = await asyncio.wait_for(ws.recv(), timeout=self.reply_timeout)\n",
        "                        except (asyncio.TimeoutError, websockets.exceptions.ConnectionClosed):\n",
        "                            try:\n",
        "                                pong = await ws.ping()\n",
        "                                await asyncio.wait_for(pong, timeout=self.ping_timeout)\n",
        "                                logger.debug('Ping OK, keeping connection alive...')\n",
        "                                continue\n",
        "                            except:\n",
        "                                logger.debug('Ping error - retrying connection in {} sec (Ctrl-C to quit)'.format(self.sleep_time))\n",
        "                                await asyncio.sleep(self.sleep_time)\n",
        "                                break\n",
        "                        # Here do something with the data\n",
        "                        logger.debug('Got data > {}'.format(reply))\n",
        "            except socket.gaierror:\n",
        "                logger.debug('Socket error - retrying connection in {} sec (Ctrl-C to quit)'.format(self.sleep_time))\n",
        "                await asyncio.sleep(self.sleep_time)\n",
        "                continue\n",
        "            except ConnectionRefusedError:\n",
        "                logger.debug('Nobody seems to listen to this URL')\n",
        "                logger.debug('Exiting...')\n",
        "                break"
      ],
      "metadata": {
        "colab": {
          "base_uri": "https://localhost:8080/",
          "height": 130
        },
        "id": "XIzMjk9CZhgl",
        "outputId": "d0c02815-75e7-4150-8d2f-a487c3365237"
      },
      "execution_count": 3,
      "outputs": [
        {
          "output_type": "error",
          "ename": "SyntaxError",
          "evalue": "ignored",
          "traceback": [
            "\u001b[0;36m  File \u001b[0;32m\"<ipython-input-3-15abfb518636>\"\u001b[0;36m, line \u001b[0;32m2\u001b[0m\n\u001b[0;31m    ​\u001b[0m\n\u001b[0m    ^\u001b[0m\n\u001b[0;31mSyntaxError\u001b[0m\u001b[0;31m:\u001b[0m invalid character in identifier\n"
          ]
        }
      ]
    },
    {
      "cell_type": "code",
      "source": [
        "import requests, json\n",
        "import secret\n",
        "\n",
        "def publish(net_name, jdata):\n",
        "    url = secret.URL\n",
        "    headers = {'content-type': 'application/json'}\n",
        "    headers['API-KEY'] = secret.API_KEYS[net_name]\n",
        "    payload = {'network': net_name}\n",
        "    payload['data'] = jdata\n",
        "    resp = requests.post(\n",
        "        url,\n",
        "        data=json.dumps(payload),\n",
        "        headers=headers)\n",
        "    return resp.status_code\n",
        "\n",
        "def radio_publish():\n",
        "    # initialize \"net\" object\n",
        "    …\n",
        "    #\n",
        "    while True:\n",
        "        jdata = net.dump_state()\n",
        "        try:\n",
        "            resp = publish(net.name, jdata)\n",
        "            time.sleep(net.step)\n",
        "        except:\n",
        "            break\n",
        "        net.next()\n",
        "    logger.debug('Last published data is > {}'.format(jdata))\n",
        "    return jdata\n"
      ],
      "metadata": {
        "colab": {
          "base_uri": "https://localhost:8080/",
          "height": 130
        },
        "id": "Fqsrg-3_Zh1q",
        "outputId": "82787909-7f67-445f-ec3a-783d8f95b183"
      },
      "execution_count": 4,
      "outputs": [
        {
          "output_type": "error",
          "ename": "SyntaxError",
          "evalue": "ignored",
          "traceback": [
            "\u001b[0;36m  File \u001b[0;32m\"<ipython-input-4-77b9caf01449>\"\u001b[0;36m, line \u001b[0;32m5\u001b[0m\n\u001b[0;31m    url = secret.URL\u001b[0m\n\u001b[0m      ^\u001b[0m\n\u001b[0;31mSyntaxError\u001b[0m\u001b[0;31m:\u001b[0m invalid character in identifier\n"
          ]
        }
      ]
    },
    {
      "cell_type": "code",
      "source": [
        ""
      ],
      "metadata": {
        "id": "dB4GFzYIZjlZ"
      },
      "execution_count": null,
      "outputs": []
    }
  ]
}